{
 "cells": [
  {
   "cell_type": "code",
   "execution_count": 1,
   "id": "0d04df30-63ed-45d9-828c-13949326e961",
   "metadata": {},
   "outputs": [
    {
     "name": "stdout",
     "output_type": "stream",
     "text": [
      "Predicted Gender: male_masculine\n",
      "Predicted Age Group: twenties\n"
     ]
    }
   ],
   "source": [
    "import numpy as np\n",
    "import joblib\n",
    "from utils.feature_extraction import extract_features\n",
    "\n",
    "# Load trained models and encoders\n",
    "gender_model = joblib.load(\"models/gender_model.pkl\")\n",
    "gender_encoder = joblib.load(\"models/gender_label_encoder.pkl\")\n",
    "\n",
    "age_model = joblib.load(\"models/age_model.pkl\")\n",
    "age_encoder = joblib.load(\"models/age_label_encoder.pkl\")\n",
    "\n",
    "# Path to test audio file\n",
    "audio_path = \"data/xx.wav\"\n",
    "\n",
    "# Extract features and reshape for prediction\n",
    "features = extract_features(audio_path).reshape(1, -1)\n",
    "\n",
    "# Predict gender and age\n",
    "predicted_gender = gender_encoder.inverse_transform(gender_model.predict(features))[0]\n",
    "predicted_age = age_encoder.inverse_transform(age_model.predict(features))[0]\n",
    "\n",
    "# Print results\n",
    "print(\"Predicted Gender:\", predicted_gender)\n",
    "print(\"Predicted Age Group:\", predicted_age)\n",
    "\n"
   ]
  },
  {
   "cell_type": "code",
   "execution_count": null,
   "id": "ba0f2d2c-aa62-47a5-9e73-451ca22f9bf0",
   "metadata": {},
   "outputs": [],
   "source": []
  },
  {
   "cell_type": "code",
   "execution_count": null,
   "id": "3bb76da5-cc37-4077-af5c-d10a37be93c5",
   "metadata": {},
   "outputs": [],
   "source": []
  },
  {
   "cell_type": "code",
   "execution_count": null,
   "id": "74cba586-6854-4400-b796-dc1171a41b2c",
   "metadata": {},
   "outputs": [],
   "source": []
  }
 ],
 "metadata": {
  "kernelspec": {
   "display_name": "Python [conda env:base] *",
   "language": "python",
   "name": "conda-base-py"
  },
  "language_info": {
   "codemirror_mode": {
    "name": "ipython",
    "version": 3
   },
   "file_extension": ".py",
   "mimetype": "text/x-python",
   "name": "python",
   "nbconvert_exporter": "python",
   "pygments_lexer": "ipython3",
   "version": "3.12.2"
  }
 },
 "nbformat": 4,
 "nbformat_minor": 5
}
